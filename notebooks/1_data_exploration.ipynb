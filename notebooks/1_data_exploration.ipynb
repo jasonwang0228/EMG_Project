{
 "cells": [
  {
   "cell_type": "markdown",
   "id": "145dcead",
   "metadata": {},
   "source": [
    "# Dataset Structure \n",
    " - 43 participants, 3 sessions (days), 17 gestures, 7 trials per gesture\n",
    " - Each .mat file contains EMG recordings for one participant/session\n",
    " - Since GRABMyo is a very well reputed data i will assume no/neglegible clipping/SATURATION since i cant find the saturation point of the measuring device.\n",
    "\n",
    " ### Gesture List\n",
    "\n",
    "| Gesture | Description                        | Gesture | Description          |\n",
    "|---------|------------------------------------|---------|----------------------|\n",
    "| LP      | Lateral prehension                 | IFE     | Index finger extension |\n",
    "| TA      | Thumb adduction                    | TE      | Thumb extension      |\n",
    "| TLFO    | Thumb and little finger opposition | WF      | Wrist flexion        |\n",
    "| TIFO    | Thumb and index finger opposition  | WE      | Wrist extension      |\n",
    "| TLFE    | Thumb and little finger extension  | FP      | Forearm pronation    |\n",
    "| TIFE    | Thumb and index finger extension   | FS      | Forearm supination   |\n",
    "| IMFE    | Index and middle finger extension  | HO      | Hand open            |\n",
    "| LFE     | Little finger extension            | HC      | Hand close           |\n",
    "- The order of the 16 gestures was randomized and a resting (REST) trial was collected after all 16 gestures were performed once. \n",
    "- A ten-seconds relaxing period was provided between each trial. \n",
    "\n",
    "\n",
    " ### Hardware Specifications \n",
    " - sEMG signals were bandpass filtered between 10 Hz and 500 Hz using a fourth-order Butterworth filte\n",
    " - notch filter of 60 Hz was employed to remove the powerline noise\n",
    " - Gain: 50Hz\n",
    " - Number of Channels: 32 (28 Used(16 forearm + 12 wrist electrodes))"
   ]
  },
  {
   "cell_type": "code",
   "execution_count": 7,
   "id": "2883e5cb",
   "metadata": {},
   "outputs": [
    {
     "name": "stdout",
     "output_type": "stream",
     "text": [
      "\n",
      "Found 43 .mat files:\n",
      "  - session1_participant1.mat\n",
      "  - session1_participant2.mat\n",
      "  - session1_participant3.mat\n",
      "  - session1_participant4.mat\n",
      "  - session1_participant5.mat\n",
      "\n",
      "Examining file: session1_participant1.mat\n",
      "\n",
      "Variables in .mat file:\n",
      "  - DATA_FOREARM: ndarray (7, 17)\n",
      "  - DATA_WRIST: ndarray (7, 17)\n",
      "\n",
      "DATA_FOREARM details:\n",
      "  - Shape: (7, 17)\n",
      "  - Data type: object\n",
      "  - First element type: <class 'numpy.ndarray'>\n",
      "  - Shape: (10240, 16)\n",
      "  - Data type: float64\n",
      "  - Min/Max: -0.626 / 0.538\n",
      "  Shapes of first 3 elements:\n",
      "  - Element 0: (10240, 16)\n",
      "  - Element 1: (10240, 16)\n",
      "  - Element 2: (10240, 16)\n",
      "\n",
      "DATA_WRIST details:\n",
      "  - Shape: (7, 17)\n",
      "  - Data type: object\n",
      "  - First element type: <class 'numpy.ndarray'>\n",
      "  - Shape: (10240, 12)\n",
      "  - Data type: float64\n",
      "  - Min/Max: -0.316 / 0.252\n",
      "  Shapes of first 3 elements:\n",
      "  - Element 0: (10240, 12)\n",
      "  - Element 1: (10240, 12)\n",
      "  - Element 2: (10240, 12)\n"
     ]
    }
   ],
   "source": [
    "from natsort import natsorted\n",
    "import numpy as np\n",
    "import scipy.io as sio\n",
    "from pathlib import Path\n",
    "\n",
    "\n",
    "# List available .mat files\n",
    "data_path = Path(\"/Users/jasonwang/Desktop/Wearable/EMG_Project/grabmyo_1.1.0/OutputBM/Session1_converted\")\n",
    "mat_files = natsorted(list(data_path.glob(\"*.mat\"))) # use natsorted to sort files as 1, 2, 3, ... instead of 1, 10, 2, 20, 3,...\n",
    "\n",
    "print(f\"\\nFound {len(mat_files)} .mat files:\")\n",
    "for file in mat_files[:5]:\n",
    "    print(f\"  - {file.name}\")\n",
    "\n",
    "# Load and inspect a sample .mat file\n",
    "if mat_files:\n",
    "    sample_file = mat_files[0]\n",
    "    print(f\"\\nExamining file: {sample_file.name}\")\n",
    "    data = sio.loadmat(sample_file) # load .mat file with scipy\n",
    "\n",
    "    print(\"\\nVariables in .mat file:\")\n",
    "    for k, v in data.items():   # k for key and v for value\n",
    "        if not k.startswith('__'):\n",
    "            print(f\"  - {k}: {type(v).__name__} {getattr(v, 'shape', '')}\")\n",
    "\n",
    "    # Explore EMG data arrays\n",
    "    for k, v in data.items():\n",
    "        if not k.startswith('__'):\n",
    "            if isinstance(v, np.ndarray):\n",
    "                print(f\"\\n{k} details:\")\n",
    "                print(f\"  - Shape: {v.shape}\")\n",
    "                print(f\"  - Data type: {v.dtype}\")\n",
    "\n",
    "                if v.dtype == 'object':\n",
    "                    if v.size > 0:\n",
    "                        first_element = v.flat[0]\n",
    "                        print(f\"  - First element type: {type(first_element)}\")\n",
    "                        if hasattr(first_element, 'shape'):\n",
    "                            print(f\"  - Shape: {first_element.shape}\")\n",
    "                            print(f\"  - Data type: {first_element.dtype}\")\n",
    "                            if hasattr(first_element, 'min'):\n",
    "                                print(f\"  - Min/Max: {first_element.min():.3f} / {first_element.max():.3f}\")\n",
    "\n",
    "                        print(\"  Shapes of first 3 elements:\")\n",
    "                        for i in range(min(3, v.size)):\n",
    "                            element = v.flat[i]\n",
    "                            if hasattr(element, 'shape'):\n",
    "                                print(f\"  - Element {i}: {element.shape}\")\n",
    "                else:\n",
    "                    print(f\"  - Min/Max: {v.min():.3f} / {v.max():.3f}\")\n",
    "                    print(f\"  - Sample values: {v.flat[:5]}\")\n"
   ]
  },
  {
   "cell_type": "code",
   "execution_count": 9,
   "id": "7cfb8cdf",
   "metadata": {},
   "outputs": [
    {
     "name": "stdout",
     "output_type": "stream",
     "text": [
      "DATA_FOREARM: NaN=0, Inf=0, Clean=True, Total=19496960\n",
      "DATA_WRIST: NaN=0, Inf=0, Clean=True, Total=14622720\n"
     ]
    }
   ],
   "source": [
    "# Quick check for NaNs and Infs in all EMG arrays\n",
    "for k, v in data.items():\n",
    "    if not k.startswith('__') and isinstance(v, np.ndarray):\n",
    "        arrs = v.flat if v.dtype == 'object' else [v]\n",
    "        nan = inf = total = 0\n",
    "        for arr in arrs:\n",
    "            if isinstance(arr, np.ndarray):\n",
    "                nan += np.isnan(arr).sum()\n",
    "                inf += np.isinf(arr).sum()\n",
    "                total += arr.size\n",
    "        print(f\"{k}: NaN={nan}, Inf={inf}, Clean={nan==0 and inf==0}, Total={total}\")\n"
   ]
  },
  {
   "cell_type": "markdown",
   "id": "eab5dd5d",
   "metadata": {},
   "source": [
    "## Data Room:\n",
    "- sampling_rate = 2048Hz\n",
    "- recording_duration = 5 sec\n",
    "- n_channels = 16 for forearm and 12 for wrist\n",
    "- n_gestures = 17 ('123', '123', ..., 'REST')  # You choose these\n",
    "- trials_per_gesture = 7"
   ]
  }
 ],
 "metadata": {
  "kernelspec": {
   "display_name": "emg_project",
   "language": "python",
   "name": "python3"
  },
  "language_info": {
   "codemirror_mode": {
    "name": "ipython",
    "version": 3
   },
   "file_extension": ".py",
   "mimetype": "text/x-python",
   "name": "python",
   "nbconvert_exporter": "python",
   "pygments_lexer": "ipython3",
   "version": "3.13.5"
  }
 },
 "nbformat": 4,
 "nbformat_minor": 5
}
