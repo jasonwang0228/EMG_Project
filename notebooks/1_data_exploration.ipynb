{
 "cells": [
  {
   "cell_type": "markdown",
   "id": "145dcead",
   "metadata": {},
   "source": [
    "# === Dataset Structure ===\n",
    " - 43 participants, 3 sessions (days), 17 gestures, 7 trials per gesture\n",
    " - Each .mat file contains EMG recordings for one participant/session"
   ]
  },
  {
   "cell_type": "code",
   "execution_count": 4,
   "id": "2883e5cb",
   "metadata": {},
   "outputs": [
    {
     "name": "stdout",
     "output_type": "stream",
     "text": [
      "\n",
      "Found 43 .mat files:\n",
      "  - session1_participant1.mat\n",
      "  - session1_participant2.mat\n",
      "  - session1_participant3.mat\n",
      "  - session1_participant4.mat\n",
      "  - session1_participant5.mat\n",
      "\n",
      "Examining file: session1_participant1.mat\n",
      "\n",
      "Variables in .mat file:\n",
      "  - DATA_FOREARM: ndarray (7, 17)\n",
      "  - DATA_WRIST: ndarray (7, 17)\n",
      "\n",
      "DATA_FOREARM details:\n",
      "  - Shape: (7, 17)\n",
      "  - Data type: object\n",
      "  - First element type: <class 'numpy.ndarray'>\n",
      "  - Shape: (10240, 16)\n",
      "  - Data type: float64\n",
      "  - Min/Max: -0.626 / 0.538\n",
      "  Shapes of first 3 elements:\n",
      "  - Element 0: (10240, 16)\n",
      "  - Element 1: (10240, 16)\n",
      "  - Element 2: (10240, 16)\n",
      "\n",
      "DATA_WRIST details:\n",
      "  - Shape: (7, 17)\n",
      "  - Data type: object\n",
      "  - First element type: <class 'numpy.ndarray'>\n",
      "  - Shape: (10240, 12)\n",
      "  - Data type: float64\n",
      "  - Min/Max: -0.316 / 0.252\n",
      "  Shapes of first 3 elements:\n",
      "  - Element 0: (10240, 12)\n",
      "  - Element 1: (10240, 12)\n",
      "  - Element 2: (10240, 12)\n"
     ]
    }
   ],
   "source": [
    "from natsort import natsorted\n",
    "import numpy as np\n",
    "import scipy.io as sio\n",
    "from pathlib import Path\n",
    "\n",
    "\n",
    "# === Step 1: List available .mat files ===\n",
    "data_path = Path(\"/Users/jasonwang/Desktop/Wearable/EMG_Project/grabmyo_1.1.0/OutputBM/Session1_converted\")\n",
    "mat_files = natsorted(list(data_path.glob(\"*.mat\")))\n",
    "\n",
    "print(f\"\\nFound {len(mat_files)} .mat files:\")\n",
    "for file in mat_files[:5]:\n",
    "    print(f\"  - {file.name}\")\n",
    "\n",
    "# === Step 2: Load and inspect a sample .mat file ===\n",
    "if mat_files:\n",
    "    sample_file = mat_files[0]\n",
    "    print(f\"\\nExamining file: {sample_file.name}\")\n",
    "    data = sio.loadmat(sample_file)\n",
    "\n",
    "    print(\"\\nVariables in .mat file:\")\n",
    "    for key, value in data.items():\n",
    "        if not key.startswith('__'):\n",
    "            print(f\"  - {key}: {type(value).__name__} {getattr(value, 'shape', '')}\")\n",
    "\n",
    "    # === Step 3: Explore EMG data arrays ===\n",
    "    for key, value in data.items():\n",
    "        if not key.startswith('__'):\n",
    "            if isinstance(value, np.ndarray):\n",
    "                print(f\"\\n{key} details:\")\n",
    "                print(f\"  - Shape: {value.shape}\")\n",
    "                print(f\"  - Data type: {value.dtype}\")\n",
    "\n",
    "                if value.dtype == 'object':\n",
    "                    if value.size > 0:\n",
    "                        first_element = value.flat[0]\n",
    "                        print(f\"  - First element type: {type(first_element)}\")\n",
    "                        if hasattr(first_element, 'shape'):\n",
    "                            print(f\"  - Shape: {first_element.shape}\")\n",
    "                            print(f\"  - Data type: {first_element.dtype}\")\n",
    "                            if hasattr(first_element, 'min'):\n",
    "                                print(f\"  - Min/Max: {first_element.min():.3f} / {first_element.max():.3f}\")\n",
    "\n",
    "                        print(\"  Shapes of first 3 elements:\")\n",
    "                        for i in range(min(3, value.size)):\n",
    "                            element = value.flat[i]\n",
    "                            if hasattr(element, 'shape'):\n",
    "                                print(f\"  - Element {i}: {element.shape}\")\n",
    "                else:\n",
    "                    print(f\"  - Min/Max: {value.min():.3f} / {value.max():.3f}\")\n",
    "                    print(f\"  - Sample values: {value.flat[:5]}\")\n"
   ]
  },
  {
   "cell_type": "code",
   "execution_count": 9,
   "id": "7cfb8cdf",
   "metadata": {},
   "outputs": [
    {
     "name": "stdout",
     "output_type": "stream",
     "text": [
      "DATA_FOREARM: NaN=0, Inf=0, Clean=True, Total=19496960\n",
      "DATA_WRIST: NaN=0, Inf=0, Clean=True, Total=14622720\n"
     ]
    }
   ],
   "source": [
    "# Quick check for NaNs and Infs in all EMG arrays\n",
    "for k, v in data.items():\n",
    "    if not k.startswith('__') and isinstance(v, np.ndarray):\n",
    "        arrs = v.flat if v.dtype == 'object' else [v]\n",
    "        nan = inf = total = 0\n",
    "        for arr in arrs:\n",
    "            if isinstance(arr, np.ndarray):\n",
    "                nan += np.isnan(arr).sum()\n",
    "                inf += np.isinf(arr).sum()\n",
    "                total += arr.size\n",
    "        print(f\"{k}: NaN={nan}, Inf={inf}, Clean={nan==0 and inf==0}, Total={total}\")\n"
   ]
  },
  {
   "cell_type": "markdown",
   "id": "eab5dd5d",
   "metadata": {},
   "source": [
    "## Data Room:\n",
    "- sampling_rate = 2048Hz\n",
    "- recording_duration = 5 sec\n",
    "- n_channels = 16 for forearm and 12 for wrist\n",
    "- n_gestures = 17 ('123', '123', ..., 'rest')  # You choose these\n",
    "- trials_per_gesture = 7"
   ]
  }
 ],
 "metadata": {
  "kernelspec": {
   "display_name": "emg_project",
   "language": "python",
   "name": "python3"
  },
  "language_info": {
   "codemirror_mode": {
    "name": "ipython",
    "version": 3
   },
   "file_extension": ".py",
   "mimetype": "text/x-python",
   "name": "python",
   "nbconvert_exporter": "python",
   "pygments_lexer": "ipython3",
   "version": "3.13.5"
  }
 },
 "nbformat": 4,
 "nbformat_minor": 5
}
